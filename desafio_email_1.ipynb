{
 "cells": [
  {
   "cell_type": "markdown",
   "id": "4816fa2f-b4fa-43f6-9b14-d96141fffb28",
   "metadata": {},
   "source": [
    "# Automating Files Manipulation and Email Sending With Python"
   ]
  },
  {
   "cell_type": "markdown",
   "id": "06543cfa-ee6a-492c-8b87-2b12b4718c9d",
   "metadata": {
    "tags": []
   },
   "source": [
    "* The present project has the goal of facilitating manipulation of large groups of files."
   ]
  },
  {
   "cell_type": "markdown",
   "id": "f2bb8eb6-1f13-4746-8fa4-dcafa7bfe466",
   "metadata": {},
   "source": [
    "* We are going to simulate a situation where we work for a company that manages different shopping malls spread through Brazil's territoty. In each state the company operates (Sao Paulo, Amazonas, Minas Gerais, Goias and Rio de Janeiro), there is an employee who is going to be responsible for analyzing the reports we are about to send."
   ]
  },
  {
   "cell_type": "markdown",
   "id": "3a83f8df-3329-4e5d-9d9d-de88c6a028f3",
   "metadata": {},
   "source": [
    "* In my situation, I am going to receive the reports from all shopping malls from all states the company operates in my email address. I will have to organize them, based on the state name abbreviation contained right in their name. The states names abbreviations will be the parameter of the segregation among the files."
   ]
  },
  {
   "cell_type": "markdown",
   "id": "6f784ec5-3a0b-4244-8149-9c22e8fbb15f",
   "metadata": {},
   "source": [
    "* Thus, our task is to guarantee each employee gets the reports from the shopping malls that are present in his/her region (eg: the person responsible for analyzing the shopping malls from Sao Paulo must receive only the files that are related to Sao Paulo shopping malls)."
   ]
  },
  {
   "cell_type": "code",
   "execution_count": 1,
   "id": "e068d812-801b-4f38-ae06-e7c575d2b6c1",
   "metadata": {},
   "outputs": [],
   "source": [
    "# Let's get started with our challenge\n",
    "# Firstly, we ought to create a new directory made specially for this occasion\n",
    "from pathlib import Path\n",
    "import shutil\n",
    "challenge = Path.cwd() / 'Desafio'\n",
    "challenge.mkdir()"
   ]
  },
  {
   "cell_type": "code",
   "execution_count": 13,
   "id": "76037d05-1d95-4165-bdb2-3feeb1d87fbd",
   "metadata": {
    "tags": []
   },
   "outputs": [],
   "source": [
    "# Now, let's move this file into the new directory\n",
    "file =  Path.cwd() / 'desafio_email_1.ipynb'\n",
    "shutil.move(str(file), challenge)"
   ]
  },
  {
   "cell_type": "code",
   "execution_count": 58,
   "id": "ec3e9a4b-3b24-4120-86a5-ec9d0a449786",
   "metadata": {},
   "outputs": [
    {
     "name": "stdout",
     "output_type": "stream",
     "text": [
      "Desafio_email1.zip\n"
     ]
    }
   ],
   "source": [
    "# The shopping mall's files have been sent to my email address, so I'll have to move them into my current directory\n",
    "from imap_tools import MailBox, AND\n",
    "import os\n",
    "from zipfile import ZipFile\n",
    "from getpass import getpass\n",
    "\n",
    "# To do this I will have to log in my email address\n",
    "my_email = os.environ.get('EMAIL_USER')\n",
    "\n",
    "username = my_email\n",
    "password = getpass('Insert your password')\n",
    "\n",
    "# Let's log in\n",
    "gmail = MailBox('imap.gmail.com').login(username, password)\n",
    "\n",
    "# I will face the following issue: Iterating over my whole mail box would cost a lot of time\n",
    "# So, aspiring efficiency, I will have to create an algorithm that filters our search\n",
    "# The first parameter I could give to the code is the date the message we are looking for was sent to me (today)\n",
    "# This will be sufficient to shrink my search range\n",
    "import datetime\n",
    "today = datetime.datetime.now().date()\n",
    "searched_emails = gmail.fetch(AND(date = today))\n",
    "\n",
    "# With our narrowed search scope, let's look for the email containing what we seek\n",
    "for email in searched_emails:\n",
    "    # The email I am looking for must have an attachment with a .zip extension\n",
    "    # This zip file contains all the shopping malls reports we are going to work on\n",
    "    if len(email.attachments) != 0:\n",
    "        for att in email.attachments:\n",
    "            # This is a guarantee the file we are downloading has the zip extension\n",
    "            if '.zip' in att.filename:\n",
    "                print(att.filename)\n",
    "                # Having found the right file, let's download it!\n",
    "                with open('Shopping_Malls.zip', 'wb') as z:\n",
    "                    byte = att.payload\n",
    "                    z.write(byte)\n",
    "     "
   ]
  },
  {
   "cell_type": "code",
   "execution_count": 9,
   "id": "f75080ea-64cd-4e86-ab7c-436482c69d80",
   "metadata": {
    "tags": []
   },
   "outputs": [],
   "source": [
    "# Now that we have just downloaded the zip file, we must extract its content.\n",
    "with ZipFile('Shopping_Malls.zip', 'r') as zip:\n",
    "    zip.extractall()"
   ]
  },
  {
   "cell_type": "markdown",
   "id": "c1e9cd2d-2e8b-4416-9266-38160a591e28",
   "metadata": {},
   "source": [
    "* Its is important to underscore that the states names abbreviations are contained in each files name. Thus, we'll know how to identify the state where the shopping malls operate in order to separate the files and send them to their respective employee.\n",
    "\n",
    "* For example, the first file in the printscreen below has \"AM\" (Amazonas state name abbreviation) right before the \".csv\" extension."
   ]
  },
  {
   "cell_type": "markdown",
   "id": "18e46dd6-daab-4319-a586-05d7042b6499",
   "metadata": {},
   "source": [
    "<img src=\"current_directory_csvs.png\">"
   ]
  },
  {
   "cell_type": "code",
   "execution_count": 10,
   "id": "1ae7c06b-9892-44c7-8f5f-d5afbfdaae2c",
   "metadata": {},
   "outputs": [
    {
     "data": {
      "text/html": [
       "<div>\n",
       "<style scoped>\n",
       "    .dataframe tbody tr th:only-of-type {\n",
       "        vertical-align: middle;\n",
       "    }\n",
       "\n",
       "    .dataframe tbody tr th {\n",
       "        vertical-align: top;\n",
       "    }\n",
       "\n",
       "    .dataframe thead th {\n",
       "        text-align: right;\n",
       "    }\n",
       "</style>\n",
       "<table border=\"1\" class=\"dataframe\">\n",
       "  <thead>\n",
       "    <tr style=\"text-align: right;\">\n",
       "      <th></th>\n",
       "      <th>Employee</th>\n",
       "      <th>Email</th>\n",
       "      <th>State</th>\n",
       "    </tr>\n",
       "  </thead>\n",
       "  <tbody>\n",
       "    <tr>\n",
       "      <th>0</th>\n",
       "      <td>André Teixeira</td>\n",
       "      <td>teixeira.andre2110@gmail.com</td>\n",
       "      <td>AM</td>\n",
       "    </tr>\n",
       "    <tr>\n",
       "      <th>1</th>\n",
       "      <td>Pedro Alves</td>\n",
       "      <td>alves.pedro2110@gmail.com</td>\n",
       "      <td>GO</td>\n",
       "    </tr>\n",
       "    <tr>\n",
       "      <th>2</th>\n",
       "      <td>Paula Gonçalves</td>\n",
       "      <td>goncavespaula2110@yahoo.com</td>\n",
       "      <td>MG</td>\n",
       "    </tr>\n",
       "    <tr>\n",
       "      <th>3</th>\n",
       "      <td>Antônio Nunez</td>\n",
       "      <td>nunez.antonio2110@yahoo.com</td>\n",
       "      <td>RJ</td>\n",
       "    </tr>\n",
       "    <tr>\n",
       "      <th>4</th>\n",
       "      <td>João Traoré</td>\n",
       "      <td>traore.joao2110@yahoo.com</td>\n",
       "      <td>SP</td>\n",
       "    </tr>\n",
       "  </tbody>\n",
       "</table>\n",
       "</div>"
      ],
      "text/plain": [
       "          Employee                         Email State\n",
       "0   André Teixeira  teixeira.andre2110@gmail.com    AM\n",
       "1      Pedro Alves     alves.pedro2110@gmail.com    GO\n",
       "2  Paula Gonçalves   goncavespaula2110@yahoo.com    MG\n",
       "3    Antônio Nunez   nunez.antonio2110@yahoo.com    RJ\n",
       "4      João Traoré     traore.joao2110@yahoo.com    SP"
      ]
     },
     "execution_count": 10,
     "metadata": {},
     "output_type": "execute_result"
    }
   ],
   "source": [
    "# Now that we got all the files we need, let's check the employees who need to receive them\n",
    "from pandas import read_excel\n",
    "employees = read_excel('Employees.xlsx', header=1, usecols=[1,2,3])\n",
    "employees"
   ]
  },
  {
   "cell_type": "code",
   "execution_count": 44,
   "id": "8b602afc-a08c-4802-a7d2-ec48ccaa9c01",
   "metadata": {},
   "outputs": [
    {
     "data": {
      "text/plain": [
       "['AM', 'GO', 'MG', 'RJ', 'SP']"
      ]
     },
     "execution_count": 44,
     "metadata": {},
     "output_type": "execute_result"
    }
   ],
   "source": [
    "# Let's agroup all the employee's states in a list\n",
    "states = [state for state in employees['State']]\n",
    "states"
   ]
  },
  {
   "cell_type": "code",
   "execution_count": 35,
   "id": "4e7825b7-6f46-44f9-9486-e9ff31f3e7ee",
   "metadata": {},
   "outputs": [],
   "source": [
    "# With the .csv files in hand, we ought to agroup them according to its respective state\n",
    "# To make the sending easier  we are going to create a zip file containing, all the csv files of a certain state\n",
    "current_directory = Path.cwd()\n",
    "os.chdir(current_directory)\n",
    "\n",
    "# In order to do this, we are going to iterate over the 'states' list we've just created\n",
    "\n",
    "for state in states:\n",
    "    # Creating a zip file for every state in the list\n",
    "    with ZipFile(f'{state}.zip', 'w') as zip_file:\n",
    "        # Analyzing each shopping mall csv file in our directory and checking its respective state\n",
    "        # Quick Reminder: The state of the shopping mall is registered right in the file name as an abbreviation\n",
    "        for file in os.listdir(current_directory):\n",
    "            # Checking if the file has a csv extension\n",
    "            if '.csv' in file:\n",
    "                # Checking if its state abbreviation corresponds to the state in effect in the loop\n",
    "                if state in file:\n",
    "                    # If the two conditions are satisfied, Python will register the file in the zip file\n",
    "                    zip_file.write(file)\n",
    "\n",
    "# Now that the files are agrouped in their respective zip file, we don't need them anymore in our directory\n",
    "for file in current_directory.iterdir():\n",
    "    if file.suffix == '.csv':\n",
    "        os.remove(file)"
   ]
  },
  {
   "cell_type": "code",
   "execution_count": 47,
   "id": "c3f1a115-70c4-42f0-b5d8-ad4b159361bb",
   "metadata": {},
   "outputs": [
    {
     "name": "stdin",
     "output_type": "stream",
     "text": [
      "Insert your password ········\n"
     ]
    }
   ],
   "source": [
    "# Sending the files\n",
    "# Now that we have agrouped the files in a zip according to their shoppping mall state, let's send them\n",
    "                                                                            # to ther respective employee!\n",
    "\n",
    "\n",
    "# We are going to cluster the informations of each row of the 'employees' DataFrame into a tuple\n",
    "informations = zip(employees['Employee'], employees['Email'], employees['State'])\n",
    "\n",
    "# It is time to send the files\n",
    "import smtplib \n",
    "from mimetypes import guess_type\n",
    "from email.message import EmailMessage\n",
    "from getpass import getpass\n",
    "\n",
    "current_directory = Path.cwd()\n",
    "my_email = os.environ.get('EMAIL_USER')\n",
    "password = getpass('Insert your password')\n",
    "\n",
    "# Iterating over the informations of each employee stored in our 'informations' zip object\n",
    "for employee, email, state in informations:\n",
    "    # Creating an email message and defining its basic data (from, to, subject...)\n",
    "    msg = EmailMessage()\n",
    "    msg['From'] = my_email\n",
    "    msg['To'] = email \n",
    "    msg['Subject'] = 'Shopping Malls reports'\n",
    "    msg.set_content(f''' Dear {employee}\n",
    "Here are the reports of the shopping malls from your state ({state}).\n",
    "Have a nice day!\n",
    "Felipe Veiga''')\n",
    "    # Iterating over our current directory in order to attach the zip files into our email message\n",
    "    for file in current_directory.iterdir():\n",
    "        # Checking if the current state name of our major iteration matches the state name file of the minor iteration\n",
    "        if state in file.name:\n",
    "            # Reading the metadata from our file and getting its content, maintype and subtype\n",
    "            with open(file, 'rb') as f:\n",
    "                file_content = f.read()\n",
    "                maintype, subtype = guess_type(file)[0].split('/')\n",
    "                # Setting our file as an attachment\n",
    "                msg.add_attachment(file_content, maintype=maintype, subtype=subtype, filename=file.name)\n",
    "    # Logging in my email account and sending the email\n",
    "    with smtplib.SMTP_SSL('smtp.gmail.com', 465) as smtp:\n",
    "        smtp.login(my_email, password)\n",
    "        smtp.send_message(msg)\n",
    "            "
   ]
  },
  {
   "cell_type": "markdown",
   "id": "1d93234e-5017-4f21-a72f-1ef1b64f8ab7",
   "metadata": {},
   "source": [
    "## The experiment is a success!\n",
    "\n",
    "* Let's check the email boxes from some of our employees, for example, Paula -employee from Minas Gerais (MG).\n"
   ]
  },
  {
   "cell_type": "markdown",
   "id": "309d8f6a-6218-409a-8801-3279194fa730",
   "metadata": {},
   "source": [
    "<img src=\"paula.png\" height=\"5000px\" width=\"1000px\" >"
   ]
  },
  {
   "cell_type": "markdown",
   "id": "80835677-4a70-4def-b4c9-4293788304d7",
   "metadata": {},
   "source": [
    "* Below, we got the email received by André Teixeira - employee from Amazonas (AM)."
   ]
  },
  {
   "cell_type": "markdown",
   "id": "9e845d01-5d52-4dff-83a2-9104413ead2a",
   "metadata": {},
   "source": [
    "<img src=\"andre.png\" height=\"6000px\" width=\"1000px\">"
   ]
  }
 ],
 "metadata": {
  "kernelspec": {
   "display_name": "Python 3",
   "language": "python",
   "name": "python3"
  },
  "language_info": {
   "codemirror_mode": {
    "name": "ipython",
    "version": 3
   },
   "file_extension": ".py",
   "mimetype": "text/x-python",
   "name": "python",
   "nbconvert_exporter": "python",
   "pygments_lexer": "ipython3",
   "version": "3.8.8"
  }
 },
 "nbformat": 4,
 "nbformat_minor": 5
}
