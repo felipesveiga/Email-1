{
 "cells": [
  {
   "cell_type": "markdown",
   "id": "4816fa2f-b4fa-43f6-9b14-d96141fffb28",
   "metadata": {},
   "source": [
    "# Automating Files Manipulation and Email Sending With Python"
   ]
  },
  {
   "cell_type": "markdown",
   "id": "06543cfa-ee6a-492c-8b87-2b12b4718c9d",
   "metadata": {
    "tags": []
   },
   "source": [
    "* The present project has the goal of facilitating manipulation of large groups of files."
   ]
  },
  {
   "cell_type": "markdown",
   "id": "f2bb8eb6-1f13-4746-8fa4-dcafa7bfe466",
   "metadata": {},
   "source": [
    "* We are going to simulate a situation where we work for a company that manages different shopping malls spread through Brazil's territoty. In each state the company operates (Sao Paulo, Amazonas, Minas Gerais, Goias and Rio de Janeiro), there is an employee who is going to be responsible for analyzing the reports we are about to send."
   ]
  },
  {
   "cell_type": "markdown",
   "id": "6f784ec5-3a0b-4244-8149-9c22e8fbb15f",
   "metadata": {},
   "source": [
    "* Thus, our task is to guarantee each employee gets the reports from the shopping malls that are present in his/her region (eg: the person responsible for analyzing the shopping malls from Sao Paulo must receive only the files that are related to Sao Paulo shopping malls)."
   ]
  },
  {
   "cell_type": "code",
   "execution_count": 1,
   "id": "ace9f099-1438-4fe7-828b-49ce9a9eca65",
   "metadata": {},
   "outputs": [],
   "source": [
    "# Apagar depois:\n",
    "# Bibliotecas do projeto\n",
    "from pathlib import Path\n",
    "import shutil\n",
    "import os\n",
    "import datetime\n",
    "from zipfile import ZipFile\n",
    "import re"
   ]
  },
  {
   "cell_type": "code",
   "execution_count": 1,
   "id": "e068d812-801b-4f38-ae06-e7c575d2b6c1",
   "metadata": {},
   "outputs": [],
   "source": [
    "# Let's get started with our challenge\n",
    "# Firstly, we ought to create a new directory made specially for this occasion\n",
    "from pathlib import Path\n",
    "import shutil\n",
    "desafio = Path.cwd() / 'Desafio'\n",
    "desafio.mkdir()"
   ]
  },
  {
   "cell_type": "code",
   "execution_count": 4,
   "id": "76037d05-1d95-4165-bdb2-3feeb1d87fbd",
   "metadata": {},
   "outputs": [
    {
     "data": {
      "text/plain": [
       "'/Users/felipeveiga/Documents/Jupyter USP/Python Lira/pathlib e shutil/Desafio/desafio_email_1.ipynb'"
      ]
     },
     "execution_count": 4,
     "metadata": {},
     "output_type": "execute_result"
    }
   ],
   "source": [
    "# Now, let's move this file into the new directory\n",
    "file =  Path.cwd() / 'desafio_email_1.ipynb'\n",
    "shutil.move(str(file), desafio)"
   ]
  },
  {
   "cell_type": "code",
   "execution_count": 58,
   "id": "ec3e9a4b-3b24-4120-86a5-ec9d0a449786",
   "metadata": {},
   "outputs": [
    {
     "name": "stdout",
     "output_type": "stream",
     "text": [
      "Desafio_email1.zip\n"
     ]
    }
   ],
   "source": [
    "# The shopping mall's files have been sent to my email address, so I'll have to move them into my current directory\n",
    "from imap_tools import MailBox, AND\n",
    "import os\n",
    "from zipfile import ZipFile\n",
    "\n",
    "# To do this I will have to log in my email address\n",
    "username = os.environ.get('EMAIL_USER')\n",
    "password = os.environ.get('MOT_USER')\n",
    "\n",
    "# Let's log in\n",
    "gmail = MailBox('imap.gmail.com').login(username, password)\n",
    "\n",
    "# I will face the following issue: Iterating over my whole mail box would take a lot of time\n",
    "# So, aspiring efficiency, I will have to create an algorithm that filters our search\n",
    "# The first parameter I could give to the code is the date the message we are looking for was sent\n",
    "# This will be sufficient to shrink my search range\n",
    "import datetime\n",
    "hoje = datetime.datetime.now().date()\n",
    "emails_procurados = gmail.fetch(AND(date = hoje))\n",
    "\n",
    "# With our narrowed search scope, let's look for the email containing what we seek\n",
    "for email in emails_procurados:\n",
    "    # The email I am looking for must have an attachment with a .zip extension\n",
    "    # This zip file contains the shopping malls reports we are going to work on\n",
    "    if len(email.attachments) != 0:\n",
    "        for att in email.attachments:\n",
    "            # This is a guarantee the file we are downloading has the zip extension\n",
    "            if '.zip' in att.filename:\n",
    "                print(att.filename)\n",
    "                # Having found the right file, let's download it!\n",
    "                with open('Shopping_Malls.zip', 'wb') as z:\n",
    "                    byte = att.payload\n",
    "                    z.write(byte)\n",
    "     "
   ]
  },
  {
   "cell_type": "code",
   "execution_count": null,
   "id": "6efa7fdc-6e48-4b0c-a7e6-77dc764a9dfb",
   "metadata": {},
   "outputs": [],
   "source": []
  },
  {
   "cell_type": "code",
   "execution_count": 11,
   "id": "d536def0-c787-44a0-a9d9-b46933861902",
   "metadata": {},
   "outputs": [],
   "source": [
    "# Deletando os arquivos csv\n",
    "# APAGAR DEPOIS!\n",
    "\n",
    "current = Path.cwd()\n",
    "for file in current.iterdir():\n",
    "    if file.suffix == '.csv':\n",
    "        os.remove(file)"
   ]
  },
  {
   "cell_type": "code",
   "execution_count": 20,
   "id": "f75080ea-64cd-4e86-ab7c-436482c69d80",
   "metadata": {
    "tags": []
   },
   "outputs": [
    {
     "data": {
      "text/html": [
       "<div>\n",
       "<style scoped>\n",
       "    .dataframe tbody tr th:only-of-type {\n",
       "        vertical-align: middle;\n",
       "    }\n",
       "\n",
       "    .dataframe tbody tr th {\n",
       "        vertical-align: top;\n",
       "    }\n",
       "\n",
       "    .dataframe thead th {\n",
       "        text-align: right;\n",
       "    }\n",
       "</style>\n",
       "<table border=\"1\" class=\"dataframe\">\n",
       "  <thead>\n",
       "    <tr style=\"text-align: right;\">\n",
       "      <th></th>\n",
       "      <th>Employee</th>\n",
       "      <th>Email</th>\n",
       "      <th>State</th>\n",
       "    </tr>\n",
       "  </thead>\n",
       "  <tbody>\n",
       "    <tr>\n",
       "      <th>0</th>\n",
       "      <td>André Teixeira</td>\n",
       "      <td>teixeira.andre2110@gmail.com</td>\n",
       "      <td>AM</td>\n",
       "    </tr>\n",
       "    <tr>\n",
       "      <th>1</th>\n",
       "      <td>Pedro Alves</td>\n",
       "      <td>alves.pedro2110@gmail.com</td>\n",
       "      <td>GO</td>\n",
       "    </tr>\n",
       "    <tr>\n",
       "      <th>2</th>\n",
       "      <td>Paula Gonçalves</td>\n",
       "      <td>goncalvespaula2110@yahoo.com</td>\n",
       "      <td>MG</td>\n",
       "    </tr>\n",
       "    <tr>\n",
       "      <th>3</th>\n",
       "      <td>Antônio Nunez</td>\n",
       "      <td>nunez.antonio@yahoo.com</td>\n",
       "      <td>RJ</td>\n",
       "    </tr>\n",
       "    <tr>\n",
       "      <th>4</th>\n",
       "      <td>João Traoré</td>\n",
       "      <td>traore.joao2110@yahoo.com</td>\n",
       "      <td>SP</td>\n",
       "    </tr>\n",
       "  </tbody>\n",
       "</table>\n",
       "</div>"
      ],
      "text/plain": [
       "          Employee                         Email State\n",
       "0   André Teixeira  teixeira.andre2110@gmail.com    AM\n",
       "1      Pedro Alves     alves.pedro2110@gmail.com    GO\n",
       "2  Paula Gonçalves  goncalvespaula2110@yahoo.com    MG\n",
       "3    Antônio Nunez       nunez.antonio@yahoo.com    RJ\n",
       "4      João Traoré     traore.joao2110@yahoo.com    SP"
      ]
     },
     "execution_count": 20,
     "metadata": {},
     "output_type": "execute_result"
    }
   ],
   "source": [
    "# Now that we have just downloaded the zip file, we must extract its content.\n",
    "with ZipFile('Shopping_Malls.zip', 'r') as zip:\n",
    "    zip.extractall()\n",
    "    \n",
    "# Now that we got all the files we need, let's check the employees who need to receive them\n",
    "from pandas import read_excel\n",
    "employees = read_excel('Relação_Funcionarios.xlsx', header=1, usecols=[1,2,3])\n",
    "employees"
   ]
  },
  {
   "cell_type": "code",
   "execution_count": 23,
   "id": "8b602afc-a08c-4802-a7d2-ec48ccaa9c01",
   "metadata": {},
   "outputs": [
    {
     "data": {
      "text/plain": [
       "['AM', 'GO', 'MG', 'RJ', 'SP']"
      ]
     },
     "execution_count": 23,
     "metadata": {},
     "output_type": "execute_result"
    }
   ],
   "source": [
    "# Let's agroup all the employee's states in a list\n",
    "states = [state for state in employees['State']]\n",
    "states"
   ]
  },
  {
   "cell_type": "code",
   "execution_count": 34,
   "id": "4e7825b7-6f46-44f9-9486-e9ff31f3e7ee",
   "metadata": {},
   "outputs": [],
   "source": [
    "# With the .csv files in hand, we ought to agroup the files according to its respective state\n",
    "# To make the sending easier  we are going to create a zip file containing, all the csv files of a certain state\n",
    "current_directory = Path.cwd()\n",
    "os.chdir(current_directory)\n",
    "\n",
    "# In order to do this, we are going to iterate over the 'states' list we've just created\n",
    "\n",
    "for state in states:\n",
    "    with ZipFile(f'{state}.zip', 'w') as zip_file:\n",
    "        for file in current_directory.iterdir():\n",
    "            if file.suffix == '.csv':\n",
    "                if state in file.name:\n",
    "                    zip_file.write(file)\n",
    "            "
   ]
  },
  {
   "cell_type": "code",
   "execution_count": 33,
   "id": "ac94bd9e-1ea2-4deb-868b-f283755231d9",
   "metadata": {},
   "outputs": [
    {
     "name": "stdout",
     "output_type": "stream",
     "text": [
      "/Users/felipeveiga/Documents/Jupyter USP/Projetos/Email 1\n"
     ]
    }
   ],
   "source": [
    "os.chdir(Path.cwd())\n",
    "print(current_directory)"
   ]
  }
 ],
 "metadata": {
  "kernelspec": {
   "display_name": "Python 3",
   "language": "python",
   "name": "python3"
  },
  "language_info": {
   "codemirror_mode": {
    "name": "ipython",
    "version": 3
   },
   "file_extension": ".py",
   "mimetype": "text/x-python",
   "name": "python",
   "nbconvert_exporter": "python",
   "pygments_lexer": "ipython3",
   "version": "3.8.8"
  }
 },
 "nbformat": 4,
 "nbformat_minor": 5
}
